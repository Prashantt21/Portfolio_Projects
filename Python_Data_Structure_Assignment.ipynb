{
  "cells": [
    {
      "cell_type": "markdown",
      "metadata": {
        "id": "view-in-github",
        "colab_type": "text"
      },
      "source": [
        "<a href=\"https://colab.research.google.com/github/Prashantt21/Portfolio_Projects/blob/main/Python_Data_Structure_Assignment.ipynb\" target=\"_parent\"><img src=\"https://colab.research.google.com/assets/colab-badge.svg\" alt=\"Open In Colab\"/></a>"
      ]
    },
    {
      "cell_type": "markdown",
      "metadata": {
        "id": "jGxqF4aIjNSq"
      },
      "source": [
        "<a id='1'></a><center> <h3 style=\"background-color:orange; color:white\" ><br>Python Data Structures<br></h3>"
      ],
      "id": "jGxqF4aIjNSq"
    },
    {
      "cell_type": "markdown",
      "metadata": {
        "id": "Kk7KNIBPUA-0"
      },
      "source": [
        "# `Types of Data Structures:`\n",
        "* `List` | `Tuple`\n",
        "* `Set` | `Dictionary`"
      ],
      "id": "Kk7KNIBPUA-0"
    },
    {
      "cell_type": "markdown",
      "metadata": {
        "id": "AobnaOlTUA-1"
      },
      "source": [
        "|Data Structures type|Mutable|Comments|Indexing|Ordered|Duplicacy|\n",
        "|----|----|----|----|----|----|\n",
        "tuple ()|immutable|immutable version of list| possible|yes |allowed |\n",
        "list []|mutable|-|possible |yes | allowed |\n",
        "set {}|mutable| -|not |no |not |\n",
        "dict {key:value}|mutable|-|possible |no |not  |"
      ],
      "id": "AobnaOlTUA-1"
    },
    {
      "cell_type": "markdown",
      "metadata": {
        "id": "9hM4zvgDUA-2"
      },
      "source": [
        "💫 `immutable` => `can't be changed` <br>\n",
        "💫 `mutable` => `can be changed`"
      ],
      "id": "9hM4zvgDUA-2"
    },
    {
      "cell_type": "code",
      "execution_count": null,
      "metadata": {
        "id": "XujUtHseUA-3"
      },
      "outputs": [],
      "source": [],
      "id": "XujUtHseUA-3"
    },
    {
      "cell_type": "markdown",
      "metadata": {
        "id": "Tyavi31ZjNSw"
      },
      "source": [
        "## Lists\n",
        "\n"
      ],
      "id": "Tyavi31ZjNSw"
    },
    {
      "cell_type": "markdown",
      "metadata": {
        "id": "tkDQdRdUjNSy"
      },
      "source": [
        "### Create an empty list with the name ‘a’, print the value of a and type(a).\n"
      ],
      "id": "tkDQdRdUjNSy"
    },
    {
      "cell_type": "code",
      "execution_count": null,
      "metadata": {
        "id": "a6i4yNGvjNSz"
      },
      "outputs": [],
      "source": [
        "# create empty list, name it 'a'\n",
        "a = []"
      ],
      "id": "a6i4yNGvjNSz"
    },
    {
      "cell_type": "code",
      "execution_count": null,
      "metadata": {
        "id": "M8FMNQEgjNS0",
        "colab": {
          "base_uri": "https://localhost:8080/"
        },
        "outputId": "143451c5-541b-435d-a6ec-3f29f245c82e"
      },
      "outputs": [
        {
          "output_type": "stream",
          "name": "stdout",
          "text": [
            "[]\n"
          ]
        }
      ],
      "source": [
        "# print the value of a\n",
        "print(a)\n"
      ],
      "id": "M8FMNQEgjNS0"
    },
    {
      "cell_type": "code",
      "execution_count": null,
      "metadata": {
        "id": "Jfc9sg1vjNS1",
        "colab": {
          "base_uri": "https://localhost:8080/"
        },
        "outputId": "9236898e-a395-40e4-e3e3-4a56b100d53f"
      },
      "outputs": [
        {
          "output_type": "execute_result",
          "data": {
            "text/plain": [
              "list"
            ]
          },
          "metadata": {},
          "execution_count": 4
        }
      ],
      "source": [
        "# print the type of a\n",
        "type(a)"
      ],
      "id": "Jfc9sg1vjNS1"
    },
    {
      "cell_type": "markdown",
      "metadata": {
        "id": "UNpN9_w4jNS1"
      },
      "source": [
        "### Create a list , languages = ['R','Python', 'SAS', 'Scala', 42],"
      ],
      "id": "UNpN9_w4jNS1"
    },
    {
      "cell_type": "code",
      "execution_count": null,
      "metadata": {
        "id": "x-TG-vc5jNS2"
      },
      "outputs": [],
      "source": [
        "languages = ['R','Python','SAS','Scala',42]"
      ],
      "id": "x-TG-vc5jNS2"
    },
    {
      "cell_type": "markdown",
      "metadata": {
        "id": "JDSIK8TbjNS3"
      },
      "source": [
        "Print the number of elements in the list"
      ],
      "id": "JDSIK8TbjNS3"
    },
    {
      "cell_type": "code",
      "execution_count": null,
      "metadata": {
        "id": "C4lBMaM8jNS3",
        "colab": {
          "base_uri": "https://localhost:8080/"
        },
        "outputId": "b9a29d77-bb47-4645-9a34-bf50397393f3"
      },
      "outputs": [
        {
          "output_type": "stream",
          "name": "stdout",
          "text": [
            "['R', 'Python', 'SAS', 'Scala', 42]\n"
          ]
        }
      ],
      "source": [
        "print(languages)"
      ],
      "id": "C4lBMaM8jNS3"
    },
    {
      "cell_type": "markdown",
      "metadata": {
        "id": "EyzO_pcnjNS3"
      },
      "source": [
        "Using for loop iterate and print all the elements in the list"
      ],
      "id": "EyzO_pcnjNS3"
    },
    {
      "cell_type": "code",
      "execution_count": null,
      "metadata": {
        "id": "TyM54ydsjNS4",
        "colab": {
          "base_uri": "https://localhost:8080/"
        },
        "outputId": "aef38e20-1218-4cc2-ed8e-16b7b7057d2b"
      },
      "outputs": [
        {
          "output_type": "stream",
          "name": "stdout",
          "text": [
            "R\n",
            "Python\n",
            "SAS\n",
            "Scala\n",
            "42\n"
          ]
        }
      ],
      "source": [
        "for i in languages:\n",
        "  print(i)\n",
        "\n"
      ],
      "id": "TyM54ydsjNS4"
    },
    {
      "cell_type": "markdown",
      "metadata": {
        "id": "eC1fqz9LjNS4"
      },
      "source": [
        "Select the second item, 'Python' and store it in a new variable named 'temp'"
      ],
      "id": "eC1fqz9LjNS4"
    },
    {
      "cell_type": "code",
      "execution_count": null,
      "metadata": {
        "id": "KY0KhRlOjNS4",
        "colab": {
          "base_uri": "https://localhost:8080/",
          "height": 35
        },
        "outputId": "2b79be1d-eedc-40f4-b262-9d3dec1d282f"
      },
      "outputs": [
        {
          "output_type": "execute_result",
          "data": {
            "text/plain": [
              "'Python'"
            ],
            "application/vnd.google.colaboratory.intrinsic+json": {
              "type": "string"
            }
          },
          "metadata": {},
          "execution_count": 13
        }
      ],
      "source": [
        "temp = languages[1]\n",
        "temp"
      ],
      "id": "KY0KhRlOjNS4"
    },
    {
      "cell_type": "markdown",
      "metadata": {
        "id": "breORMa_jNS4"
      },
      "source": [
        "Print the value of temp and type(temp)"
      ],
      "id": "breORMa_jNS4"
    },
    {
      "cell_type": "code",
      "execution_count": null,
      "metadata": {
        "id": "MbvX2aIgjNS5",
        "colab": {
          "base_uri": "https://localhost:8080/"
        },
        "outputId": "607889f6-f132-45b5-f2f5-065f25cac951"
      },
      "outputs": [
        {
          "output_type": "execute_result",
          "data": {
            "text/plain": [
              "str"
            ]
          },
          "metadata": {},
          "execution_count": 15
        }
      ],
      "source": [
        "temp\n",
        "type(temp)\n",
        "\n"
      ],
      "id": "MbvX2aIgjNS5"
    },
    {
      "cell_type": "markdown",
      "metadata": {
        "id": "I4MrKlAUjNS5"
      },
      "source": [
        "Append the element 'Java' in the list"
      ],
      "id": "I4MrKlAUjNS5"
    },
    {
      "cell_type": "code",
      "execution_count": null,
      "metadata": {
        "id": "rOtqZY6PjNS6",
        "colab": {
          "base_uri": "https://localhost:8080/"
        },
        "outputId": "e261c463-c7fb-4864-c756-4284e255e3e2"
      },
      "outputs": [
        {
          "output_type": "execute_result",
          "data": {
            "text/plain": [
              "['R', 'Python', 'SAS', 'Scala', 42, 'Java', 'Java']"
            ]
          },
          "metadata": {},
          "execution_count": 18
        }
      ],
      "source": [
        "languages.append('Java')\n",
        "languages"
      ],
      "id": "rOtqZY6PjNS6"
    },
    {
      "cell_type": "markdown",
      "metadata": {
        "id": "ksEn8qvFjNS6"
      },
      "source": [
        "Remove the element 42 from the list and print the list"
      ],
      "id": "ksEn8qvFjNS6"
    },
    {
      "cell_type": "code",
      "execution_count": null,
      "metadata": {
        "id": "Lxuzfc1bjNS6",
        "colab": {
          "base_uri": "https://localhost:8080/"
        },
        "outputId": "e8f0328a-2493-4367-dcb5-7784e5a56042"
      },
      "outputs": [
        {
          "output_type": "execute_result",
          "data": {
            "text/plain": [
              "['R', 'Python', 'SAS', 'Scala', 'Java']"
            ]
          },
          "metadata": {},
          "execution_count": 22
        }
      ],
      "source": [
        "languages.remove('Java')\n",
        "languages\n"
      ],
      "id": "Lxuzfc1bjNS6"
    },
    {
      "cell_type": "markdown",
      "metadata": {
        "id": "19MjI0w6jNS6"
      },
      "source": [
        "### Create a list, colors = [‘Red’, ‘Blue’, ‘White’]"
      ],
      "id": "19MjI0w6jNS6"
    },
    {
      "cell_type": "code",
      "execution_count": null,
      "metadata": {
        "id": "Z1lMzdbWjNS7"
      },
      "outputs": [],
      "source": [
        "colors=['Red','Blue','White']"
      ],
      "id": "Z1lMzdbWjNS7"
    },
    {
      "cell_type": "markdown",
      "metadata": {
        "id": "VAqLj5R3jNS7"
      },
      "source": [
        "Append the element 'Black' to colors"
      ],
      "id": "VAqLj5R3jNS7"
    },
    {
      "cell_type": "code",
      "execution_count": null,
      "metadata": {
        "id": "gvb5iC7ljNS7"
      },
      "outputs": [],
      "source": [
        "colors.append('Black')\n",
        "\n"
      ],
      "id": "gvb5iC7ljNS7"
    },
    {
      "cell_type": "markdown",
      "metadata": {
        "id": "MFWIzVcvjNS7"
      },
      "source": [
        "Append the color 'Orange' to second position (index=1) and print the list"
      ],
      "id": "MFWIzVcvjNS7"
    },
    {
      "cell_type": "code",
      "execution_count": null,
      "metadata": {
        "id": "Fb6YZDSNjNS8",
        "colab": {
          "base_uri": "https://localhost:8080/"
        },
        "outputId": "e4a8ef20-566f-4cd3-da54-0888eb3b06c5"
      },
      "outputs": [
        {
          "output_type": "execute_result",
          "data": {
            "text/plain": [
              "['Red', 'Orange', 'Blue', 'White', 'Black']"
            ]
          },
          "metadata": {},
          "execution_count": 27
        }
      ],
      "source": [
        "colors.insert(1,'Orange')\n",
        "colors\n",
        "\n"
      ],
      "id": "Fb6YZDSNjNS8"
    },
    {
      "cell_type": "markdown",
      "metadata": {
        "id": "8DWB76AOjNS8"
      },
      "source": [
        "Print the list\n"
      ],
      "id": "8DWB76AOjNS8"
    },
    {
      "cell_type": "code",
      "execution_count": null,
      "metadata": {
        "id": "0ldkGCozjNS8",
        "colab": {
          "base_uri": "https://localhost:8080/"
        },
        "outputId": "d07b9a5d-5cb8-4121-f55a-8ceee8ebf8e0"
      },
      "outputs": [
        {
          "output_type": "execute_result",
          "data": {
            "text/plain": [
              "['Red', 'Orange', 'Blue', 'White', 'Black']"
            ]
          },
          "metadata": {},
          "execution_count": 28
        }
      ],
      "source": [
        "colors"
      ],
      "id": "0ldkGCozjNS8"
    },
    {
      "cell_type": "markdown",
      "metadata": {
        "id": "WfFfxvLKjNS8"
      },
      "source": [
        "Create another list, colors2 = [‘Grey’, ‘Sky Blue’]"
      ],
      "id": "WfFfxvLKjNS8"
    },
    {
      "cell_type": "code",
      "execution_count": null,
      "metadata": {
        "id": "onZEiwdUjNS8"
      },
      "outputs": [],
      "source": [
        "color2 = ['Grey','Sky Blue']"
      ],
      "id": "onZEiwdUjNS8"
    },
    {
      "cell_type": "markdown",
      "metadata": {
        "id": "MrNQk6uKjNS8"
      },
      "source": [
        "Add the elements of colors2 to colors using extend function in the list"
      ],
      "id": "MrNQk6uKjNS8"
    },
    {
      "cell_type": "code",
      "execution_count": null,
      "metadata": {
        "id": "Hr1Eu88OjNS9",
        "colab": {
          "base_uri": "https://localhost:8080/"
        },
        "outputId": "8477159f-1efa-446d-fbb2-fb6111e7b1e9"
      },
      "outputs": [
        {
          "output_type": "execute_result",
          "data": {
            "text/plain": [
              "['Grey',\n",
              " 'Sky Blue',\n",
              " 'Red',\n",
              " 'Orange',\n",
              " 'Blue',\n",
              " 'White',\n",
              " 'Black',\n",
              " 'Red',\n",
              " 'Orange',\n",
              " 'Blue',\n",
              " 'White',\n",
              " 'Black',\n",
              " 'Red',\n",
              " 'Orange',\n",
              " 'Blue',\n",
              " 'White',\n",
              " 'Black',\n",
              " 'Red',\n",
              " 'Orange',\n",
              " 'Blue',\n",
              " 'White',\n",
              " 'Black']"
            ]
          },
          "metadata": {},
          "execution_count": 39
        }
      ],
      "source": [
        "color2.extend(colors)\n",
        "color2"
      ],
      "id": "Hr1Eu88OjNS9"
    },
    {
      "cell_type": "markdown",
      "metadata": {
        "id": "u0KDeU20jNS9"
      },
      "source": [
        "Print len of colors and its elements"
      ],
      "id": "u0KDeU20jNS9"
    },
    {
      "cell_type": "code",
      "execution_count": null,
      "metadata": {
        "id": "bnBmsCg2jNS9",
        "colab": {
          "base_uri": "https://localhost:8080/"
        },
        "outputId": "341fed64-d2ff-492f-9bbb-7fa17cda9de4"
      },
      "outputs": [
        {
          "output_type": "execute_result",
          "data": {
            "text/plain": [
              "22"
            ]
          },
          "metadata": {},
          "execution_count": 40
        }
      ],
      "source": [
        "len(color2)\n",
        "\n"
      ],
      "id": "bnBmsCg2jNS9"
    },
    {
      "cell_type": "markdown",
      "metadata": {
        "id": "vJ7YqokSjNS9"
      },
      "source": [
        "Sort the list and print it."
      ],
      "id": "vJ7YqokSjNS9"
    },
    {
      "cell_type": "code",
      "execution_count": null,
      "metadata": {
        "id": "X14C-1PtjNS9",
        "colab": {
          "base_uri": "https://localhost:8080/"
        },
        "outputId": "cf27c9fd-373f-4369-ca77-2ed668b7e5fc"
      },
      "outputs": [
        {
          "output_type": "execute_result",
          "data": {
            "text/plain": [
              "['Black',\n",
              " 'Black',\n",
              " 'Black',\n",
              " 'Black',\n",
              " 'Blue',\n",
              " 'Blue',\n",
              " 'Blue',\n",
              " 'Blue',\n",
              " 'Grey',\n",
              " 'Orange',\n",
              " 'Orange',\n",
              " 'Orange',\n",
              " 'Orange',\n",
              " 'Red',\n",
              " 'Red',\n",
              " 'Red',\n",
              " 'Red',\n",
              " 'Sky Blue',\n",
              " 'White',\n",
              " 'White',\n",
              " 'White',\n",
              " 'White']"
            ]
          },
          "metadata": {},
          "execution_count": 41
        }
      ],
      "source": [
        "color2.sort()\n",
        "color2\n"
      ],
      "id": "X14C-1PtjNS9"
    },
    {
      "cell_type": "markdown",
      "metadata": {
        "id": "MdN5B9F9jNS-"
      },
      "source": [
        "### Create a string, sent = ‘Coronavirus Caused Lockdowns Around The World.”"
      ],
      "id": "MdN5B9F9jNS-"
    },
    {
      "cell_type": "code",
      "execution_count": null,
      "metadata": {
        "id": "j4JUR085jNS-"
      },
      "outputs": [],
      "source": [
        "sent = 'Coronavirus Caused Lockdowns Around The World'"
      ],
      "id": "j4JUR085jNS-"
    },
    {
      "cell_type": "markdown",
      "metadata": {
        "id": "rcn18drOjNS-"
      },
      "source": [
        "Use split function to convert the string into a list of words and save it in variable words and print the same"
      ],
      "id": "rcn18drOjNS-"
    },
    {
      "cell_type": "code",
      "execution_count": null,
      "metadata": {
        "id": "fjiKSboajNS-",
        "colab": {
          "base_uri": "https://localhost:8080/"
        },
        "outputId": "66de71c8-a6df-4c40-8bf9-b265efdc618d"
      },
      "outputs": [
        {
          "output_type": "execute_result",
          "data": {
            "text/plain": [
              "['Coronavirus', 'Caused', 'Lockdowns', 'Around', 'The', 'World']"
            ]
          },
          "metadata": {},
          "execution_count": 43
        }
      ],
      "source": [
        "message = sent.split(' ')\n",
        "message\n"
      ],
      "id": "fjiKSboajNS-"
    },
    {
      "cell_type": "markdown",
      "metadata": {
        "id": "rowxhN26jNS_"
      },
      "source": [
        "Convert each word in the list to lower case and store it in variable words_lower.\n",
        "Print words_lower"
      ],
      "id": "rowxhN26jNS_"
    },
    {
      "cell_type": "code",
      "execution_count": null,
      "metadata": {
        "id": "LuzAECOVjNS_",
        "colab": {
          "base_uri": "https://localhost:8080/"
        },
        "outputId": "6c9422cc-814a-4ae9-e464-b6e4f1f95cb9"
      },
      "outputs": [
        {
          "output_type": "stream",
          "name": "stdout",
          "text": [
            "['coronavirus', 'caused', 'lockdowns', 'around', 'the', 'world']\n"
          ]
        }
      ],
      "source": [
        "# prompt: Convert each word in the list to lower case and store it in variable words_lower. Print words_lower\n",
        "\n",
        "words_lower = [word.lower() for word in message]\n",
        "print(words_lower)\n"
      ],
      "id": "LuzAECOVjNS_"
    },
    {
      "cell_type": "markdown",
      "metadata": {
        "id": "zznwP-l9jNS_"
      },
      "source": [
        "Check whether ‘country’ is in the list"
      ],
      "id": "zznwP-l9jNS_"
    },
    {
      "cell_type": "code",
      "execution_count": null,
      "metadata": {
        "id": "y-U1felnjNS_",
        "colab": {
          "base_uri": "https://localhost:8080/"
        },
        "outputId": "2c166727-96c3-444c-cbab-c9c3d02df718"
      },
      "outputs": [
        {
          "output_type": "execute_result",
          "data": {
            "text/plain": [
              "False"
            ]
          },
          "metadata": {},
          "execution_count": 56
        }
      ],
      "source": [
        "# prompt: Check whether ‘country’ is in the list\n",
        "\n",
        "'country' in words_lower\n"
      ],
      "id": "y-U1felnjNS_"
    },
    {
      "cell_type": "markdown",
      "metadata": {
        "id": "AZMvSVKWjNS_"
      },
      "source": [
        "Remove the element ‘the’ from the list and print the list."
      ],
      "id": "AZMvSVKWjNS_"
    },
    {
      "cell_type": "code",
      "execution_count": null,
      "metadata": {
        "id": "bmDbpYd7jNS_",
        "colab": {
          "base_uri": "https://localhost:8080/",
          "height": 158
        },
        "outputId": "30925ac4-f129-4b03-a208-155fda4ca392"
      },
      "outputs": [
        {
          "output_type": "error",
          "ename": "ValueError",
          "evalue": "list.remove(x): x not in list",
          "traceback": [
            "\u001b[0;31m---------------------------------------------------------------------------\u001b[0m",
            "\u001b[0;31mValueError\u001b[0m                                Traceback (most recent call last)",
            "\u001b[0;32m<ipython-input-58-a71012b9cb9d>\u001b[0m in \u001b[0;36m<cell line: 1>\u001b[0;34m()\u001b[0m\n\u001b[0;32m----> 1\u001b[0;31m \u001b[0mwords_lower\u001b[0m\u001b[0;34m.\u001b[0m\u001b[0mremove\u001b[0m\u001b[0;34m(\u001b[0m\u001b[0;34m'the'\u001b[0m\u001b[0;34m)\u001b[0m\u001b[0;34m\u001b[0m\u001b[0;34m\u001b[0m\u001b[0m\n\u001b[0m\u001b[1;32m      2\u001b[0m \u001b[0mwords_lower\u001b[0m\u001b[0;34m\u001b[0m\u001b[0;34m\u001b[0m\u001b[0m\n",
            "\u001b[0;31mValueError\u001b[0m: list.remove(x): x not in list"
          ]
        }
      ],
      "source": [
        "words_lower.remove('the')"
      ],
      "id": "bmDbpYd7jNS_"
    },
    {
      "cell_type": "markdown",
      "metadata": {
        "id": "int3gJc0jNS_"
      },
      "source": [
        "Select the first 4 words from the list words_lower using slicing and store them in a new variable x4"
      ],
      "id": "int3gJc0jNS_"
    },
    {
      "cell_type": "code",
      "execution_count": null,
      "metadata": {
        "id": "fXOJmYI1jNTA"
      },
      "outputs": [],
      "source": [
        "x4 = words_lower[:4]"
      ],
      "id": "fXOJmYI1jNTA"
    },
    {
      "cell_type": "code",
      "execution_count": null,
      "metadata": {
        "id": "2Kb_1V9HjNTA",
        "colab": {
          "base_uri": "https://localhost:8080/"
        },
        "outputId": "eda07fe5-035a-4974-8609-6b8831d62541"
      },
      "outputs": [
        {
          "output_type": "execute_result",
          "data": {
            "text/plain": [
              "['coronavirus', 'caused', 'lockdowns', 'around']"
            ]
          },
          "metadata": {},
          "execution_count": 60
        }
      ],
      "source": [
        "# print x4\n",
        "x4\n"
      ],
      "id": "2Kb_1V9HjNTA"
    },
    {
      "cell_type": "markdown",
      "metadata": {
        "id": "3HgP3nUmjNTA"
      },
      "source": [
        "Convert the list of elements to single string using join function and print it"
      ],
      "id": "3HgP3nUmjNTA"
    },
    {
      "cell_type": "code",
      "execution_count": null,
      "metadata": {
        "id": "hiXO7ekhjNTA",
        "colab": {
          "base_uri": "https://localhost:8080/",
          "height": 35
        },
        "outputId": "002a11b8-3d5c-4767-f67a-1c43a2b63d3a"
      },
      "outputs": [
        {
          "output_type": "execute_result",
          "data": {
            "text/plain": [
              "'coronavirus caused lockdowns around world'"
            ],
            "application/vnd.google.colaboratory.intrinsic+json": {
              "type": "string"
            }
          },
          "metadata": {},
          "execution_count": 61
        }
      ],
      "source": [
        "joined_string = ' '.join(words_lower)\n",
        "joined_string\n"
      ],
      "id": "hiXO7ekhjNTA"
    },
    {
      "cell_type": "markdown",
      "metadata": {
        "id": "tW6We_kvjNTA"
      },
      "source": [
        "## Sets"
      ],
      "id": "tW6We_kvjNTA"
    },
    {
      "cell_type": "markdown",
      "metadata": {
        "id": "02qkte5xjNTA"
      },
      "source": [
        "### Create stud_grades = ['A','A','B','C','C','F']"
      ],
      "id": "02qkte5xjNTA"
    },
    {
      "cell_type": "code",
      "execution_count": null,
      "metadata": {
        "id": "M5P_qZaTjNTB"
      },
      "outputs": [],
      "source": [
        "stud_grades = ['A','A','B','C','C','F']"
      ],
      "id": "M5P_qZaTjNTB"
    },
    {
      "cell_type": "markdown",
      "metadata": {
        "id": "XazCnMcBjNTB"
      },
      "source": [
        "Print the len of stud_grades"
      ],
      "id": "XazCnMcBjNTB"
    },
    {
      "cell_type": "code",
      "execution_count": null,
      "metadata": {
        "id": "gMMJN-V5jNTB",
        "colab": {
          "base_uri": "https://localhost:8080/"
        },
        "outputId": "a0fd7318-7330-4748-d188-2286af58f3ef"
      },
      "outputs": [
        {
          "output_type": "execute_result",
          "data": {
            "text/plain": [
              "6"
            ]
          },
          "metadata": {},
          "execution_count": 63
        }
      ],
      "source": [
        "len(stud_grades)\n",
        "\n"
      ],
      "id": "gMMJN-V5jNTB"
    },
    {
      "cell_type": "markdown",
      "metadata": {
        "id": "ALm7hstGjNTB"
      },
      "source": [
        "Create a new variable, stud_grades_set = set(stud_grades)"
      ],
      "id": "ALm7hstGjNTB"
    },
    {
      "cell_type": "code",
      "execution_count": null,
      "metadata": {
        "id": "ItDkZir6UA_W"
      },
      "outputs": [],
      "source": [
        "stud_grades_set = set(stud_grades)"
      ],
      "id": "ItDkZir6UA_W"
    },
    {
      "cell_type": "markdown",
      "metadata": {
        "id": "JJESkQiJjNTB"
      },
      "source": [
        "Print stud_grades_set."
      ],
      "id": "JJESkQiJjNTB"
    },
    {
      "cell_type": "code",
      "execution_count": null,
      "metadata": {
        "id": "Q-daiiLPjNTB",
        "colab": {
          "base_uri": "https://localhost:8080/"
        },
        "outputId": "d79ee4d6-3fe7-4a6b-cc6b-be0ce7d6be35"
      },
      "outputs": [
        {
          "output_type": "execute_result",
          "data": {
            "text/plain": [
              "{'A', 'B', 'C', 'F'}"
            ]
          },
          "metadata": {},
          "execution_count": 66
        }
      ],
      "source": [
        "stud_grades_set\n",
        "\n"
      ],
      "id": "Q-daiiLPjNTB"
    },
    {
      "cell_type": "markdown",
      "metadata": {
        "id": "hNeCPwPOjNTC"
      },
      "source": [
        "print the type of stud_grades and stud_grades_set and print their corresponding elements. Try to understand the difference between them."
      ],
      "id": "hNeCPwPOjNTC"
    },
    {
      "cell_type": "code",
      "execution_count": null,
      "metadata": {
        "id": "g7cntC0ojNTC",
        "colab": {
          "base_uri": "https://localhost:8080/"
        },
        "outputId": "e97b5f16-dfc3-4ed5-edb9-68dda27ca66b"
      },
      "outputs": [
        {
          "output_type": "execute_result",
          "data": {
            "text/plain": [
              "set"
            ]
          },
          "metadata": {},
          "execution_count": 73
        }
      ],
      "source": [
        "type(stud_grades)\n",
        "type(stud_grades_set)\n",
        "\n"
      ],
      "id": "g7cntC0ojNTC"
    },
    {
      "cell_type": "markdown",
      "metadata": {
        "id": "WjzzJX8yjNTC"
      },
      "source": [
        "Add a new element ‘G’ to stud_grades_set"
      ],
      "id": "WjzzJX8yjNTC"
    },
    {
      "cell_type": "code",
      "execution_count": null,
      "metadata": {
        "id": "y80DVAlRjNTC",
        "colab": {
          "base_uri": "https://localhost:8080/"
        },
        "outputId": "602a983b-e6eb-4b71-d8ed-e5aa4d0f5096"
      },
      "outputs": [
        {
          "output_type": "execute_result",
          "data": {
            "text/plain": [
              "{'A', 'B', 'C', 'F', 'G'}"
            ]
          },
          "metadata": {},
          "execution_count": 76
        }
      ],
      "source": [
        "stud_grades_set.add('G')\n",
        "stud_grades_set\n"
      ],
      "id": "y80DVAlRjNTC"
    },
    {
      "cell_type": "markdown",
      "metadata": {
        "id": "4TO9zhSJjNTC"
      },
      "source": [
        "Add element 'F' to stud_grades_set. and print it."
      ],
      "id": "4TO9zhSJjNTC"
    },
    {
      "cell_type": "code",
      "execution_count": null,
      "metadata": {
        "id": "Bh4tc1zCjNTC",
        "colab": {
          "base_uri": "https://localhost:8080/"
        },
        "outputId": "a1e513e6-19e9-4ca0-e1bb-91f7ab2289df"
      },
      "outputs": [
        {
          "output_type": "execute_result",
          "data": {
            "text/plain": [
              "{'A', 'B', 'C', 'F', 'G'}"
            ]
          },
          "metadata": {},
          "execution_count": 77
        }
      ],
      "source": [
        "stud_grades_set.add('F')\n",
        "stud_grades_set\n"
      ],
      "id": "Bh4tc1zCjNTC"
    },
    {
      "cell_type": "markdown",
      "metadata": {
        "id": "FSgM3DD5jNTD"
      },
      "source": [
        "!!Did you notice? set doesn't add an element if it's already present in it, unlike lists."
      ],
      "id": "FSgM3DD5jNTD"
    },
    {
      "cell_type": "markdown",
      "metadata": {
        "id": "tqz1GBM5jNTD"
      },
      "source": [
        "Remove ‘F’ from stud_grades_set"
      ],
      "id": "tqz1GBM5jNTD"
    },
    {
      "cell_type": "code",
      "execution_count": null,
      "metadata": {
        "id": "zOLBDdk0jNTD",
        "colab": {
          "base_uri": "https://localhost:8080/",
          "height": 176
        },
        "outputId": "264b4dd0-fa8f-4fc1-b3a4-5e02d94d1e5a"
      },
      "outputs": [
        {
          "output_type": "error",
          "ename": "KeyError",
          "evalue": "'F'",
          "traceback": [
            "\u001b[0;31m---------------------------------------------------------------------------\u001b[0m",
            "\u001b[0;31mKeyError\u001b[0m                                  Traceback (most recent call last)",
            "\u001b[0;32m<ipython-input-79-1c48cf4dbcbc>\u001b[0m in \u001b[0;36m<cell line: 1>\u001b[0;34m()\u001b[0m\n\u001b[0;32m----> 1\u001b[0;31m \u001b[0mstud_grades_set\u001b[0m\u001b[0;34m.\u001b[0m\u001b[0mremove\u001b[0m\u001b[0;34m(\u001b[0m\u001b[0;34m'F'\u001b[0m\u001b[0;34m)\u001b[0m\u001b[0;34m\u001b[0m\u001b[0;34m\u001b[0m\u001b[0m\n\u001b[0m\u001b[1;32m      2\u001b[0m \u001b[0mstud_grades_set\u001b[0m\u001b[0;34m\u001b[0m\u001b[0;34m\u001b[0m\u001b[0m\n\u001b[1;32m      3\u001b[0m \u001b[0;34m\u001b[0m\u001b[0m\n",
            "\u001b[0;31mKeyError\u001b[0m: 'F'"
          ]
        }
      ],
      "source": [
        "stud_grades_set.remove('F')\n",
        "stud_grades_set\n",
        "\n"
      ],
      "id": "zOLBDdk0jNTD"
    },
    {
      "cell_type": "markdown",
      "metadata": {
        "id": "wxMXywoRjNTD"
      },
      "source": [
        "Print the elements and the length of stud_grades_set"
      ],
      "id": "wxMXywoRjNTD"
    },
    {
      "cell_type": "code",
      "execution_count": null,
      "metadata": {
        "id": "lS582g27jNTD",
        "colab": {
          "base_uri": "https://localhost:8080/"
        },
        "outputId": "ca01a6a4-4f5e-45fc-d347-6f8f79d0e547"
      },
      "outputs": [
        {
          "output_type": "stream",
          "name": "stdout",
          "text": [
            "G\n",
            "B\n",
            "A\n",
            "C\n"
          ]
        },
        {
          "output_type": "execute_result",
          "data": {
            "text/plain": [
              "4"
            ]
          },
          "metadata": {},
          "execution_count": 82
        }
      ],
      "source": [
        "for i in stud_grades_set:\n",
        "  print(i)\n",
        "\n",
        "len(stud_grades_set)"
      ],
      "id": "lS582g27jNTD"
    },
    {
      "cell_type": "markdown",
      "metadata": {
        "id": "FctCYkNBjNTD"
      },
      "source": [
        "### Create colors = [‘red’,’blue’,’orange’], and fruits = [‘orange’,’grapes’,’apples’]"
      ],
      "id": "FctCYkNBjNTD"
    },
    {
      "cell_type": "code",
      "execution_count": 3,
      "metadata": {
        "id": "Ax9GSualUA_b"
      },
      "outputs": [],
      "source": [
        "colors = ['Red','Blue','Orange']\n",
        "fruits = ['Orange','Grapes','apples']"
      ],
      "id": "Ax9GSualUA_b"
    },
    {
      "cell_type": "markdown",
      "metadata": {
        "id": "kfIRtvphjNTE"
      },
      "source": [
        "Print color and fruits"
      ],
      "id": "kfIRtvphjNTE"
    },
    {
      "cell_type": "code",
      "execution_count": 4,
      "metadata": {
        "id": "q-gavK0-jNTE",
        "colab": {
          "base_uri": "https://localhost:8080/"
        },
        "outputId": "547de20c-baca-4ba6-e1cc-44522326a0aa"
      },
      "outputs": [
        {
          "output_type": "execute_result",
          "data": {
            "text/plain": [
              "['Orange', 'Grapes', 'apples']"
            ]
          },
          "metadata": {},
          "execution_count": 4
        }
      ],
      "source": [
        "colors\n",
        "fruits"
      ],
      "id": "q-gavK0-jNTE"
    },
    {
      "cell_type": "markdown",
      "metadata": {
        "id": "uMOTrWwSjNTE"
      },
      "source": [
        "Create colors_set, and fruits_set. (using set() ) and print them"
      ],
      "id": "uMOTrWwSjNTE"
    },
    {
      "cell_type": "code",
      "execution_count": 6,
      "metadata": {
        "id": "pjs5HyB0UA_d",
        "colab": {
          "base_uri": "https://localhost:8080/"
        },
        "outputId": "3ff66257-5857-4d45-b940-2af1237d369d"
      },
      "outputs": [
        {
          "output_type": "execute_result",
          "data": {
            "text/plain": [
              "{'Grapes', 'Orange', 'apples'}"
            ]
          },
          "metadata": {},
          "execution_count": 6
        }
      ],
      "source": [
        "colors_set = set(colors)\n",
        "fruits_set = set(fruits)\n",
        "colors_set\n",
        "fruits_set"
      ],
      "id": "pjs5HyB0UA_d"
    },
    {
      "cell_type": "markdown",
      "metadata": {
        "id": "tW9fj0R1jNTE"
      },
      "source": [
        "Find the union of both the sets."
      ],
      "id": "tW9fj0R1jNTE"
    },
    {
      "cell_type": "code",
      "execution_count": 7,
      "metadata": {
        "id": "oyskI_CTjNTE",
        "colab": {
          "base_uri": "https://localhost:8080/"
        },
        "outputId": "59ba7503-f3e2-4383-dec2-5d7ee7540fa2"
      },
      "outputs": [
        {
          "output_type": "execute_result",
          "data": {
            "text/plain": [
              "{'Blue', 'Grapes', 'Orange', 'Red', 'apples'}"
            ]
          },
          "metadata": {},
          "execution_count": 7
        }
      ],
      "source": [
        "colors_set.union(fruits_set)\n",
        "\n"
      ],
      "id": "oyskI_CTjNTE"
    },
    {
      "cell_type": "markdown",
      "metadata": {
        "id": "3yXYgYBLjNTF"
      },
      "source": [
        "Find the intersection of both the sets"
      ],
      "id": "3yXYgYBLjNTF"
    },
    {
      "cell_type": "code",
      "execution_count": 9,
      "metadata": {
        "id": "3AzYqu5sjNTF",
        "colab": {
          "base_uri": "https://localhost:8080/"
        },
        "outputId": "867eac79-f23a-4776-87b9-7de82574e70e"
      },
      "outputs": [
        {
          "output_type": "execute_result",
          "data": {
            "text/plain": [
              "{'Orange'}"
            ]
          },
          "metadata": {},
          "execution_count": 9
        }
      ],
      "source": [
        "colors_set.intersection(fruits_set)\n",
        "\n"
      ],
      "id": "3AzYqu5sjNTF"
    },
    {
      "cell_type": "markdown",
      "metadata": {
        "id": "PuhlSjH_jNTF"
      },
      "source": [
        "Find the elements which are Fruits but not colors (using set.difference() )"
      ],
      "id": "PuhlSjH_jNTF"
    },
    {
      "cell_type": "code",
      "execution_count": 11,
      "metadata": {
        "id": "gBaxHXrfjNTF",
        "colab": {
          "base_uri": "https://localhost:8080/"
        },
        "outputId": "da41b4eb-086f-42e3-d1a4-d8a8d071a6f1"
      },
      "outputs": [
        {
          "output_type": "execute_result",
          "data": {
            "text/plain": [
              "{'Grapes', 'apples'}"
            ]
          },
          "metadata": {},
          "execution_count": 11
        }
      ],
      "source": [
        "fruits_but_not_colors = fruits_set.difference(colors_set)\n",
        "fruits_but_not_colors"
      ],
      "id": "gBaxHXrfjNTF"
    },
    {
      "cell_type": "code",
      "execution_count": null,
      "metadata": {
        "id": "R60U4CRhUA_e"
      },
      "outputs": [],
      "source": [],
      "id": "R60U4CRhUA_e"
    },
    {
      "cell_type": "markdown",
      "metadata": {
        "id": "hLZeBta3jNTF"
      },
      "source": [
        "## TUPLES"
      ],
      "id": "hLZeBta3jNTF"
    },
    {
      "cell_type": "markdown",
      "metadata": {
        "id": "Nerhdg66jNTF"
      },
      "source": [
        "### Create temp = [17, ’Virat’, 50.0]"
      ],
      "id": "Nerhdg66jNTF"
    },
    {
      "cell_type": "code",
      "execution_count": 12,
      "metadata": {
        "id": "YKb5GS-FUA_f"
      },
      "outputs": [],
      "source": [
        "temp = [17,'Virat',50.0]"
      ],
      "id": "YKb5GS-FUA_f"
    },
    {
      "cell_type": "markdown",
      "metadata": {
        "id": "C0IuMJFijNTG"
      },
      "source": [
        "Iterate through temp and print all the items in temp"
      ],
      "id": "C0IuMJFijNTG"
    },
    {
      "cell_type": "code",
      "execution_count": 16,
      "metadata": {
        "id": "CSKY_cgHjNTG",
        "colab": {
          "base_uri": "https://localhost:8080/"
        },
        "outputId": "8aacab33-e0be-4c02-fdda-9fa2f48f30e5"
      },
      "outputs": [
        {
          "output_type": "stream",
          "name": "stdout",
          "text": [
            "17\n",
            "Virat\n",
            "50.0\n"
          ]
        }
      ],
      "source": [
        "for i in temp:\n",
        "  print(i)\n"
      ],
      "id": "CSKY_cgHjNTG"
    },
    {
      "cell_type": "markdown",
      "metadata": {
        "id": "gI0kBGQ1jNTG"
      },
      "source": [
        "replace first element with 11 in temp"
      ],
      "id": "gI0kBGQ1jNTG"
    },
    {
      "cell_type": "code",
      "execution_count": 18,
      "metadata": {
        "id": "p6JCtyOBjNTG",
        "colab": {
          "base_uri": "https://localhost:8080/"
        },
        "outputId": "be401a86-b50d-4f04-f28f-df7a19292765"
      },
      "outputs": [
        {
          "output_type": "execute_result",
          "data": {
            "text/plain": [
              "[11, 'Virat', 50.0]"
            ]
          },
          "metadata": {},
          "execution_count": 18
        }
      ],
      "source": [
        "temp_1 = list(temp)\n",
        "temp_1[0] = 11\n",
        "temp_1"
      ],
      "id": "p6JCtyOBjNTG"
    },
    {
      "cell_type": "markdown",
      "metadata": {
        "id": "JV3b34AdjNTG"
      },
      "source": [
        "Set temp1 = tuple(temp)"
      ],
      "id": "JV3b34AdjNTG"
    },
    {
      "cell_type": "code",
      "execution_count": 20,
      "metadata": {
        "id": "yFu9n19tUA_g"
      },
      "outputs": [],
      "source": [
        "temp1 = tuple(temp_1)"
      ],
      "id": "yFu9n19tUA_g"
    },
    {
      "cell_type": "markdown",
      "metadata": {
        "id": "Z9LJWgBkjNTG"
      },
      "source": [
        "Iterate through temp1 and print all the items in temp1."
      ],
      "id": "Z9LJWgBkjNTG"
    },
    {
      "cell_type": "code",
      "execution_count": 22,
      "metadata": {
        "id": "t0v-FZsNjNTH",
        "colab": {
          "base_uri": "https://localhost:8080/"
        },
        "outputId": "77fb8e83-284a-42f4-fe9b-ff36111d5166"
      },
      "outputs": [
        {
          "output_type": "stream",
          "name": "stdout",
          "text": [
            "17\n",
            "Virat\n",
            "50.0\n"
          ]
        }
      ],
      "source": [
        "for i in temp1:\n",
        "  print(i)\n",
        "\n"
      ],
      "id": "t0v-FZsNjNTH"
    },
    {
      "cell_type": "markdown",
      "metadata": {
        "id": "A4FXMQDfjNTH"
      },
      "source": [
        "replace first element with 17 in temp1"
      ],
      "id": "A4FXMQDfjNTH"
    },
    {
      "cell_type": "code",
      "execution_count": 23,
      "metadata": {
        "id": "eioDSdW8jNTH",
        "colab": {
          "base_uri": "https://localhost:8080/",
          "height": 158
        },
        "outputId": "7fcbe4dc-44ee-41c7-82f8-71056728cdda"
      },
      "outputs": [
        {
          "output_type": "error",
          "ename": "TypeError",
          "evalue": "'tuple' object does not support item assignment",
          "traceback": [
            "\u001b[0;31m---------------------------------------------------------------------------\u001b[0m",
            "\u001b[0;31mTypeError\u001b[0m                                 Traceback (most recent call last)",
            "\u001b[0;32m<ipython-input-23-f914bde7af8f>\u001b[0m in \u001b[0;36m<cell line: 1>\u001b[0;34m()\u001b[0m\n\u001b[0;32m----> 1\u001b[0;31m \u001b[0mtemp1\u001b[0m\u001b[0;34m[\u001b[0m\u001b[0;36m0\u001b[0m\u001b[0;34m]\u001b[0m\u001b[0;34m=\u001b[0m\u001b[0;36m17\u001b[0m\u001b[0;34m\u001b[0m\u001b[0;34m\u001b[0m\u001b[0m\n\u001b[0m\u001b[1;32m      2\u001b[0m \u001b[0mtemp1\u001b[0m\u001b[0;34m\u001b[0m\u001b[0;34m\u001b[0m\u001b[0m\n",
            "\u001b[0;31mTypeError\u001b[0m: 'tuple' object does not support item assignment"
          ]
        }
      ],
      "source": [
        "temp1[0]=17\n",
        "temp1\n"
      ],
      "id": "eioDSdW8jNTH"
    },
    {
      "cell_type": "markdown",
      "metadata": {
        "id": "IuGIObFZjNTH"
      },
      "source": [
        "<b>Oops!! You got an error. Hey Don't worry! Its because Once a tuple is created, you cannot change its values unlike list.</b>"
      ],
      "id": "IuGIObFZjNTH"
    },
    {
      "cell_type": "markdown",
      "metadata": {
        "id": "ExB_cM1ZjNTH"
      },
      "source": [
        "### Create city = (\"Bangalore\", 28.9949521, 72)"
      ],
      "id": "ExB_cM1ZjNTH"
    },
    {
      "cell_type": "code",
      "execution_count": 24,
      "metadata": {
        "id": "fWz52DjjjNTH"
      },
      "outputs": [],
      "source": [
        "city = (\"Bangalore\",28.9949521,72)"
      ],
      "id": "fWz52DjjjNTH"
    },
    {
      "cell_type": "markdown",
      "metadata": {
        "id": "v4ipyqXsjNTH"
      },
      "source": [
        "Print first element of city"
      ],
      "id": "v4ipyqXsjNTH"
    },
    {
      "cell_type": "code",
      "execution_count": 25,
      "metadata": {
        "id": "KJHMuFk1jNTI",
        "colab": {
          "base_uri": "https://localhost:8080/",
          "height": 35
        },
        "outputId": "b221cccf-1268-4122-b4cc-0de0d5858995"
      },
      "outputs": [
        {
          "output_type": "execute_result",
          "data": {
            "text/plain": [
              "'Bangalore'"
            ],
            "application/vnd.google.colaboratory.intrinsic+json": {
              "type": "string"
            }
          },
          "metadata": {},
          "execution_count": 25
        }
      ],
      "source": [
        "city[0]"
      ],
      "id": "KJHMuFk1jNTI"
    },
    {
      "cell_type": "markdown",
      "metadata": {
        "id": "N5FoHg4ujNTI"
      },
      "source": [
        "Create city2 = (‘Chennai’, 30.01, 74)"
      ],
      "id": "N5FoHg4ujNTI"
    },
    {
      "cell_type": "code",
      "execution_count": 26,
      "metadata": {
        "id": "fYuGqbDEjNTI"
      },
      "outputs": [],
      "source": [
        "city2 = ('Chennai',30.01,74)"
      ],
      "id": "fYuGqbDEjNTI"
    },
    {
      "cell_type": "markdown",
      "metadata": {
        "id": "0gz-HACUjNTI"
      },
      "source": [
        "Create cities which consist of city and city2"
      ],
      "id": "0gz-HACUjNTI"
    },
    {
      "cell_type": "code",
      "execution_count": 29,
      "metadata": {
        "id": "5dTN1LQPjNTI",
        "colab": {
          "base_uri": "https://localhost:8080/"
        },
        "outputId": "8a24c933-b2fd-44ad-d3e4-69118e84e2e4"
      },
      "outputs": [
        {
          "output_type": "execute_result",
          "data": {
            "text/plain": [
              "('Bangalore', 28.9949521, 72, 'Chennai', 30.01, 74)"
            ]
          },
          "metadata": {},
          "execution_count": 29
        }
      ],
      "source": [
        "cities = city + city2\n",
        "cities"
      ],
      "id": "5dTN1LQPjNTI"
    },
    {
      "cell_type": "markdown",
      "metadata": {
        "id": "He-teRi2jNTI"
      },
      "source": [
        "Print cities"
      ],
      "id": "He-teRi2jNTI"
    },
    {
      "cell_type": "code",
      "execution_count": 30,
      "metadata": {
        "id": "ISySNfxGjNTI",
        "colab": {
          "base_uri": "https://localhost:8080/"
        },
        "outputId": "a11ba712-b811-4106-9610-c5fa85e53e4c"
      },
      "outputs": [
        {
          "output_type": "execute_result",
          "data": {
            "text/plain": [
              "('Bangalore', 28.9949521, 72, 'Chennai', 30.01, 74)"
            ]
          },
          "metadata": {},
          "execution_count": 30
        }
      ],
      "source": [
        "cities"
      ],
      "id": "ISySNfxGjNTI"
    },
    {
      "cell_type": "markdown",
      "metadata": {
        "id": "brFx6-rtjNTJ"
      },
      "source": [
        "Print type of first element in cities"
      ],
      "id": "brFx6-rtjNTJ"
    },
    {
      "cell_type": "code",
      "execution_count": 31,
      "metadata": {
        "id": "CmIifGybjNTJ",
        "colab": {
          "base_uri": "https://localhost:8080/",
          "height": 35
        },
        "outputId": "2f14fc4b-0501-454c-9713-326f550d0fa4"
      },
      "outputs": [
        {
          "output_type": "execute_result",
          "data": {
            "text/plain": [
              "'Bangalore'"
            ],
            "application/vnd.google.colaboratory.intrinsic+json": {
              "type": "string"
            }
          },
          "metadata": {},
          "execution_count": 31
        }
      ],
      "source": [
        "cities[0]"
      ],
      "id": "CmIifGybjNTJ"
    },
    {
      "cell_type": "markdown",
      "metadata": {
        "id": "jtk8J_yHjNTJ"
      },
      "source": [
        "print the type of cities\n"
      ],
      "id": "jtk8J_yHjNTJ"
    },
    {
      "cell_type": "code",
      "execution_count": 32,
      "metadata": {
        "id": "y9rdG29XjNTJ",
        "colab": {
          "base_uri": "https://localhost:8080/"
        },
        "outputId": "16158167-5023-4d29-8f75-6d5ed7b0ad55"
      },
      "outputs": [
        {
          "output_type": "execute_result",
          "data": {
            "text/plain": [
              "tuple"
            ]
          },
          "metadata": {},
          "execution_count": 32
        }
      ],
      "source": [
        "type(cities)"
      ],
      "id": "y9rdG29XjNTJ"
    },
    {
      "cell_type": "markdown",
      "metadata": {
        "id": "uXHSadWqjNTJ"
      },
      "source": [
        "Hey that implies you made a nested tuples!!"
      ],
      "id": "uXHSadWqjNTJ"
    },
    {
      "cell_type": "markdown",
      "metadata": {
        "id": "zViY-S_djNTJ"
      },
      "source": [
        "## DICTIONARY"
      ],
      "id": "zViY-S_djNTJ"
    },
    {
      "cell_type": "markdown",
      "metadata": {
        "id": "4NjUxRaZjNTK"
      },
      "source": [
        "### Create a dictionary d = {\"actor\":\"amir\",\"animal\":\"cat\",\"earth\":2,\"list\":[23,32,12]}"
      ],
      "id": "4NjUxRaZjNTK"
    },
    {
      "cell_type": "code",
      "execution_count": 33,
      "metadata": {
        "id": "UCtEFPI4jNTK"
      },
      "outputs": [],
      "source": [
        "d ={\"actor\":\"amir\",\"animal\":\"cat\",\"earth\":2,\"list\":[23,32,12]}"
      ],
      "id": "UCtEFPI4jNTK"
    },
    {
      "cell_type": "markdown",
      "metadata": {
        "id": "OamenDk8jNTK"
      },
      "source": [
        "Print the value of d[0]"
      ],
      "id": "OamenDk8jNTK"
    },
    {
      "cell_type": "code",
      "execution_count": 37,
      "metadata": {
        "id": "gion3awcjNTK",
        "colab": {
          "base_uri": "https://localhost:8080/",
          "height": 35
        },
        "outputId": "a1a1cfc9-16eb-44c0-853e-c0d91cd3d28a"
      },
      "outputs": [
        {
          "output_type": "execute_result",
          "data": {
            "text/plain": [
              "'amir'"
            ],
            "application/vnd.google.colaboratory.intrinsic+json": {
              "type": "string"
            }
          },
          "metadata": {},
          "execution_count": 37
        }
      ],
      "source": [
        "d[\"actor\"]"
      ],
      "id": "gion3awcjNTK"
    },
    {
      "cell_type": "markdown",
      "metadata": {
        "id": "XYtrrUigjNTK"
      },
      "source": [
        "<b>Oops!! again an error. again a fun fact. Dictionary return the value for key if key is in the dictionary, else throws KeyError\n",
        "and we don't have key 0 here :( </b>"
      ],
      "id": "XYtrrUigjNTK"
    },
    {
      "cell_type": "markdown",
      "metadata": {
        "id": "62VXYnw1jNTK"
      },
      "source": [
        "Store the value of d[‘actor’] to a new variable actor."
      ],
      "id": "62VXYnw1jNTK"
    },
    {
      "cell_type": "code",
      "execution_count": 38,
      "metadata": {
        "id": "kkBfNz81jNTK"
      },
      "outputs": [],
      "source": [
        "actor = d['actor']\n"
      ],
      "id": "kkBfNz81jNTK"
    },
    {
      "cell_type": "markdown",
      "metadata": {
        "id": "uFfuF569jNTL"
      },
      "source": [
        "Print the type of actor"
      ],
      "id": "uFfuF569jNTL"
    },
    {
      "cell_type": "code",
      "execution_count": 39,
      "metadata": {
        "id": "bKbFXBxyjNTL",
        "colab": {
          "base_uri": "https://localhost:8080/"
        },
        "outputId": "76dc1320-2057-4fd5-ea57-893976515029"
      },
      "outputs": [
        {
          "output_type": "execute_result",
          "data": {
            "text/plain": [
              "str"
            ]
          },
          "metadata": {},
          "execution_count": 39
        }
      ],
      "source": [
        "type(actor)"
      ],
      "id": "bKbFXBxyjNTL"
    },
    {
      "cell_type": "markdown",
      "metadata": {
        "id": "y549qN04jNTL"
      },
      "source": [
        "Store the value of d[‘list’] in new variable List."
      ],
      "id": "y549qN04jNTL"
    },
    {
      "cell_type": "code",
      "execution_count": 41,
      "metadata": {
        "id": "I7GyOK8DjNTL",
        "colab": {
          "base_uri": "https://localhost:8080/"
        },
        "outputId": "8c13fc58-8214-4f58-d0fc-b6ed77480a03"
      },
      "outputs": [
        {
          "output_type": "execute_result",
          "data": {
            "text/plain": [
              "[23, 32, 12]"
            ]
          },
          "metadata": {},
          "execution_count": 41
        }
      ],
      "source": [
        "List = d['list']\n",
        "List"
      ],
      "id": "I7GyOK8DjNTL"
    },
    {
      "cell_type": "markdown",
      "metadata": {
        "id": "Ul1YMiuNjNTL"
      },
      "source": [
        "Print the type of List."
      ],
      "id": "Ul1YMiuNjNTL"
    },
    {
      "cell_type": "code",
      "execution_count": 42,
      "metadata": {
        "id": "V0VdG9y_jNTL",
        "colab": {
          "base_uri": "https://localhost:8080/"
        },
        "outputId": "11bf8b29-3e06-475c-9d45-85cff996cd9c"
      },
      "outputs": [
        {
          "output_type": "execute_result",
          "data": {
            "text/plain": [
              "list"
            ]
          },
          "metadata": {},
          "execution_count": 42
        }
      ],
      "source": [
        "type(List)"
      ],
      "id": "V0VdG9y_jNTL"
    },
    {
      "cell_type": "markdown",
      "metadata": {
        "id": "A0CEMABhjNTL"
      },
      "source": [
        "Create d1 = { ‘singer’ : ‘Kr$na’ , ‘album’: ‘Still here’, ‘genre’ : ‘hip-hop’}"
      ],
      "id": "A0CEMABhjNTL"
    },
    {
      "cell_type": "code",
      "execution_count": 43,
      "metadata": {
        "id": "FCGCw5FEjNTL"
      },
      "outputs": [],
      "source": [
        "d1 = {'singer':'Kr$na','album':'Still here','genre':'hip-hop'}"
      ],
      "id": "FCGCw5FEjNTL"
    },
    {
      "cell_type": "markdown",
      "metadata": {
        "id": "ybGIILrLjNTM"
      },
      "source": [
        "Merge d1 into d."
      ],
      "id": "ybGIILrLjNTM"
    },
    {
      "cell_type": "code",
      "execution_count": 49,
      "metadata": {
        "id": "UmDbbQJPjNTM",
        "colab": {
          "base_uri": "https://localhost:8080/"
        },
        "outputId": "5dd988c0-0a7b-481d-c1cb-5a260b41c953"
      },
      "outputs": [
        {
          "output_type": "execute_result",
          "data": {
            "text/plain": [
              "{'singer': 'Kr$na',\n",
              " 'album': 'Still here',\n",
              " 'genre': 'hip-hop',\n",
              " 'actor': 'amir',\n",
              " 'animal': 'cat',\n",
              " 'earth': 2,\n",
              " 'list': [23, 32, 12]}"
            ]
          },
          "metadata": {},
          "execution_count": 49
        }
      ],
      "source": [
        "d1.update(d)\n",
        "d1\n"
      ],
      "id": "UmDbbQJPjNTM"
    },
    {
      "cell_type": "markdown",
      "metadata": {
        "id": "jhAPX45ZjNTM"
      },
      "source": [
        "print d"
      ],
      "id": "jhAPX45ZjNTM"
    },
    {
      "cell_type": "code",
      "execution_count": 51,
      "metadata": {
        "id": "785S26ryjNTM",
        "colab": {
          "base_uri": "https://localhost:8080/"
        },
        "outputId": "7a44754a-9977-4c68-a00f-95301a3803cf"
      },
      "outputs": [
        {
          "output_type": "execute_result",
          "data": {
            "text/plain": [
              "{'singer': 'Kr$na',\n",
              " 'album': 'Still here',\n",
              " 'genre': 'hip-hop',\n",
              " 'actor': 'amir',\n",
              " 'animal': 'cat',\n",
              " 'earth': 2,\n",
              " 'list': [23, 32, 12]}"
            ]
          },
          "metadata": {},
          "execution_count": 51
        }
      ],
      "source": [
        "d1"
      ],
      "id": "785S26ryjNTM"
    },
    {
      "cell_type": "markdown",
      "metadata": {
        "id": "9E852mY2jNTM"
      },
      "source": [
        "Print all the keys in d"
      ],
      "id": "9E852mY2jNTM"
    },
    {
      "cell_type": "code",
      "execution_count": 53,
      "metadata": {
        "id": "7K843OrLjNTM",
        "colab": {
          "base_uri": "https://localhost:8080/"
        },
        "outputId": "f7709e03-29d2-43e9-f186-9a4569de2818"
      },
      "outputs": [
        {
          "output_type": "stream",
          "name": "stdout",
          "text": [
            "singer\n",
            "album\n",
            "genre\n",
            "actor\n",
            "animal\n",
            "earth\n",
            "list\n"
          ]
        }
      ],
      "source": [
        "for key in d1:\n",
        "  print(key)"
      ],
      "id": "7K843OrLjNTM"
    },
    {
      "cell_type": "markdown",
      "metadata": {
        "id": "fiuzxbGkjNTN"
      },
      "source": [
        "Print all the values in d"
      ],
      "id": "fiuzxbGkjNTN"
    },
    {
      "cell_type": "code",
      "execution_count": 56,
      "metadata": {
        "id": "Pyhh6r0pjNTN",
        "colab": {
          "base_uri": "https://localhost:8080/"
        },
        "outputId": "48515fe1-4e45-4a68-b390-2106ba224e24"
      },
      "outputs": [
        {
          "output_type": "stream",
          "name": "stdout",
          "text": [
            "Kr$na\n",
            "Still here\n",
            "hip-hop\n",
            "amir\n",
            "cat\n",
            "2\n",
            "[23, 32, 12]\n"
          ]
        }
      ],
      "source": [
        "for value in d1.values():\n",
        "  print(value)"
      ],
      "id": "Pyhh6r0pjNTN"
    },
    {
      "cell_type": "markdown",
      "metadata": {
        "id": "XSoe8GWmjNTN"
      },
      "source": [
        "Iterate over d, and print each key, value pair as this - (actor ----> amir)"
      ],
      "id": "XSoe8GWmjNTN"
    },
    {
      "cell_type": "code",
      "execution_count": 57,
      "metadata": {
        "id": "O0iW9kiqjNTO",
        "colab": {
          "base_uri": "https://localhost:8080/"
        },
        "outputId": "5facdf27-738e-449c-a7db-12ce9c1710f0"
      },
      "outputs": [
        {
          "output_type": "stream",
          "name": "stdout",
          "text": [
            "actor--->amir\n",
            "animal--->cat\n",
            "earth--->2\n",
            "list--->[23, 32, 12]\n"
          ]
        }
      ],
      "source": [
        "for key,value in d.items():\n",
        "  print(f\"{key}--->{value}\")"
      ],
      "id": "O0iW9kiqjNTO"
    },
    {
      "cell_type": "markdown",
      "metadata": {
        "id": "Hhzm-EIsjNTO"
      },
      "source": [
        "count the number of occurences of charachters in string named \"sent\" using dictionary and print the same.\n"
      ],
      "id": "Hhzm-EIsjNTO"
    },
    {
      "cell_type": "code",
      "execution_count": 58,
      "metadata": {
        "id": "IvRlvUAljNTP",
        "colab": {
          "base_uri": "https://localhost:8080/"
        },
        "outputId": "c49c1353-5bce-4dee-eb79-c4ddfbf11cf7"
      },
      "outputs": [
        {
          "output_type": "stream",
          "name": "stdout",
          "text": [
            "C: 2\n",
            "o: 6\n",
            "r: 4\n",
            "n: 3\n",
            "a: 2\n",
            "v: 1\n",
            "i: 1\n",
            "u: 3\n",
            "s: 3\n",
            " : 5\n",
            "e: 2\n",
            "d: 4\n",
            "L: 1\n",
            "c: 1\n",
            "k: 1\n",
            "w: 1\n",
            "A: 1\n",
            "T: 1\n",
            "h: 1\n",
            "W: 1\n",
            "l: 1\n"
          ]
        }
      ],
      "source": [
        "sent = 'Coronavirus Caused Lockdowns Around The World'\n",
        "char_count = {}\n",
        "for char in sent:\n",
        "  if char not in char_count:\n",
        "    char_count[char] = 0\n",
        "  char_count[char] += 1\n",
        "\n",
        "for char, count in char_count.items():\n",
        "  print(f\"{char}: {count}\")\n",
        "\n"
      ],
      "id": "IvRlvUAljNTP"
    },
    {
      "cell_type": "code",
      "execution_count": null,
      "metadata": {
        "id": "ebNwyxUujNTP"
      },
      "outputs": [],
      "source": [
        "\n"
      ],
      "id": "ebNwyxUujNTP"
    }
  ],
  "metadata": {
    "colab": {
      "provenance": [],
      "include_colab_link": true
    },
    "kernelspec": {
      "display_name": "Python 3",
      "language": "python",
      "name": "python3"
    },
    "language_info": {
      "codemirror_mode": {
        "name": "ipython",
        "version": 3
      },
      "file_extension": ".py",
      "mimetype": "text/x-python",
      "name": "python",
      "nbconvert_exporter": "python",
      "pygments_lexer": "ipython3",
      "version": "3.7.4"
    }
  },
  "nbformat": 4,
  "nbformat_minor": 5
}